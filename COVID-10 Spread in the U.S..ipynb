{
 "cells": [
  {
   "cell_type": "markdown",
   "id": "ccfe10c6",
   "metadata": {},
   "source": [
    "# Import necessary libraries"
   ]
  },
  {
   "cell_type": "code",
   "execution_count": 1,
   "id": "8d3888c8",
   "metadata": {},
   "outputs": [],
   "source": [
    "import pandas as pd\n",
    "import matplotlib.pyplot as plt"
   ]
  },
  {
   "cell_type": "markdown",
   "id": "7e70f7b5",
   "metadata": {},
   "source": [
    "# Upload data"
   ]
  },
  {
   "cell_type": "code",
   "execution_count": 2,
   "id": "ecaae976",
   "metadata": {},
   "outputs": [
    {
     "data": {
      "text/html": [
       "<div>\n",
       "<style scoped>\n",
       "    .dataframe tbody tr th:only-of-type {\n",
       "        vertical-align: middle;\n",
       "    }\n",
       "\n",
       "    .dataframe tbody tr th {\n",
       "        vertical-align: top;\n",
       "    }\n",
       "\n",
       "    .dataframe thead th {\n",
       "        text-align: right;\n",
       "    }\n",
       "</style>\n",
       "<table border=\"1\" class=\"dataframe\">\n",
       "  <thead>\n",
       "    <tr style=\"text-align: right;\">\n",
       "      <th></th>\n",
       "      <th>State</th>\n",
       "      <th>Tested</th>\n",
       "      <th>Infected</th>\n",
       "      <th>Deaths</th>\n",
       "      <th>Population</th>\n",
       "      <th>Pop Density</th>\n",
       "      <th>Gini</th>\n",
       "      <th>ICU Beds</th>\n",
       "      <th>Income</th>\n",
       "      <th>GDP</th>\n",
       "      <th>...</th>\n",
       "      <th>Hospitals</th>\n",
       "      <th>Health Spending</th>\n",
       "      <th>Pollution</th>\n",
       "      <th>Med-Large Airports</th>\n",
       "      <th>Temperature</th>\n",
       "      <th>Urban</th>\n",
       "      <th>Age 0-25</th>\n",
       "      <th>Age 26-54</th>\n",
       "      <th>Age 55+</th>\n",
       "      <th>School Closure Date</th>\n",
       "    </tr>\n",
       "  </thead>\n",
       "  <tbody>\n",
       "    <tr>\n",
       "      <th>0</th>\n",
       "      <td>Alaska</td>\n",
       "      <td>620170</td>\n",
       "      <td>17057</td>\n",
       "      <td>84</td>\n",
       "      <td>734002</td>\n",
       "      <td>1.2863</td>\n",
       "      <td>0.4081</td>\n",
       "      <td>119</td>\n",
       "      <td>59687</td>\n",
       "      <td>73205</td>\n",
       "      <td>...</td>\n",
       "      <td>21</td>\n",
       "      <td>11064</td>\n",
       "      <td>6.4</td>\n",
       "      <td>1.0</td>\n",
       "      <td>26.6</td>\n",
       "      <td>66.0</td>\n",
       "      <td>0.36</td>\n",
       "      <td>0.39</td>\n",
       "      <td>0.25</td>\n",
       "      <td>03/19/20</td>\n",
       "    </tr>\n",
       "    <tr>\n",
       "      <th>1</th>\n",
       "      <td>Alabama</td>\n",
       "      <td>1356420</td>\n",
       "      <td>194892</td>\n",
       "      <td>2973</td>\n",
       "      <td>4908621</td>\n",
       "      <td>96.9221</td>\n",
       "      <td>0.4847</td>\n",
       "      <td>1533</td>\n",
       "      <td>42334</td>\n",
       "      <td>45219</td>\n",
       "      <td>...</td>\n",
       "      <td>101</td>\n",
       "      <td>7281</td>\n",
       "      <td>8.1</td>\n",
       "      <td>1.0</td>\n",
       "      <td>62.8</td>\n",
       "      <td>59.0</td>\n",
       "      <td>0.33</td>\n",
       "      <td>0.37</td>\n",
       "      <td>0.31</td>\n",
       "      <td>03/16/20</td>\n",
       "    </tr>\n",
       "    <tr>\n",
       "      <th>2</th>\n",
       "      <td>Arkansas</td>\n",
       "      <td>1363429</td>\n",
       "      <td>113641</td>\n",
       "      <td>1985</td>\n",
       "      <td>3038999</td>\n",
       "      <td>58.4030</td>\n",
       "      <td>0.4719</td>\n",
       "      <td>732</td>\n",
       "      <td>42566</td>\n",
       "      <td>42454</td>\n",
       "      <td>...</td>\n",
       "      <td>88</td>\n",
       "      <td>7408</td>\n",
       "      <td>7.1</td>\n",
       "      <td>0.0</td>\n",
       "      <td>60.4</td>\n",
       "      <td>56.2</td>\n",
       "      <td>0.34</td>\n",
       "      <td>0.37</td>\n",
       "      <td>0.30</td>\n",
       "      <td>03/17/20</td>\n",
       "    </tr>\n",
       "    <tr>\n",
       "      <th>3</th>\n",
       "      <td>Arizona</td>\n",
       "      <td>1792602</td>\n",
       "      <td>248139</td>\n",
       "      <td>5982</td>\n",
       "      <td>7378494</td>\n",
       "      <td>64.9550</td>\n",
       "      <td>0.4713</td>\n",
       "      <td>1559</td>\n",
       "      <td>43650</td>\n",
       "      <td>48055</td>\n",
       "      <td>...</td>\n",
       "      <td>83</td>\n",
       "      <td>6452</td>\n",
       "      <td>9.7</td>\n",
       "      <td>1.0</td>\n",
       "      <td>60.3</td>\n",
       "      <td>89.8</td>\n",
       "      <td>0.33</td>\n",
       "      <td>0.36</td>\n",
       "      <td>0.30</td>\n",
       "      <td>03/16/20</td>\n",
       "    </tr>\n",
       "    <tr>\n",
       "      <th>4</th>\n",
       "      <td>California</td>\n",
       "      <td>18912501</td>\n",
       "      <td>930628</td>\n",
       "      <td>17672</td>\n",
       "      <td>39937489</td>\n",
       "      <td>256.3727</td>\n",
       "      <td>0.4899</td>\n",
       "      <td>7338</td>\n",
       "      <td>62586</td>\n",
       "      <td>74205</td>\n",
       "      <td>...</td>\n",
       "      <td>359</td>\n",
       "      <td>7549</td>\n",
       "      <td>12.8</td>\n",
       "      <td>9.0</td>\n",
       "      <td>59.4</td>\n",
       "      <td>95.0</td>\n",
       "      <td>0.33</td>\n",
       "      <td>0.40</td>\n",
       "      <td>0.26</td>\n",
       "      <td>03/19/20</td>\n",
       "    </tr>\n",
       "  </tbody>\n",
       "</table>\n",
       "<p>5 rows × 26 columns</p>\n",
       "</div>"
      ],
      "text/plain": [
       "        State    Tested  Infected  Deaths  Population  Pop Density    Gini  \\\n",
       "0      Alaska    620170     17057      84      734002       1.2863  0.4081   \n",
       "1     Alabama   1356420    194892    2973     4908621      96.9221  0.4847   \n",
       "2    Arkansas   1363429    113641    1985     3038999      58.4030  0.4719   \n",
       "3     Arizona   1792602    248139    5982     7378494      64.9550  0.4713   \n",
       "4  California  18912501    930628   17672    39937489     256.3727  0.4899   \n",
       "\n",
       "   ICU Beds  Income    GDP  ...  Hospitals  Health Spending  Pollution  \\\n",
       "0       119   59687  73205  ...         21            11064        6.4   \n",
       "1      1533   42334  45219  ...        101             7281        8.1   \n",
       "2       732   42566  42454  ...         88             7408        7.1   \n",
       "3      1559   43650  48055  ...         83             6452        9.7   \n",
       "4      7338   62586  74205  ...        359             7549       12.8   \n",
       "\n",
       "   Med-Large Airports  Temperature  Urban  Age 0-25  Age 26-54  Age 55+  \\\n",
       "0                 1.0         26.6   66.0      0.36       0.39     0.25   \n",
       "1                 1.0         62.8   59.0      0.33       0.37     0.31   \n",
       "2                 0.0         60.4   56.2      0.34       0.37     0.30   \n",
       "3                 1.0         60.3   89.8      0.33       0.36     0.30   \n",
       "4                 9.0         59.4   95.0      0.33       0.40     0.26   \n",
       "\n",
       "   School Closure Date  \n",
       "0             03/19/20  \n",
       "1             03/16/20  \n",
       "2             03/17/20  \n",
       "3             03/16/20  \n",
       "4             03/19/20  \n",
       "\n",
       "[5 rows x 26 columns]"
      ]
     },
     "execution_count": 2,
     "metadata": {},
     "output_type": "execute_result"
    }
   ],
   "source": [
    "df = pd.read_csv('data/COVID19_state.csv')\n",
    "df.head()"
   ]
  },
  {
   "cell_type": "code",
   "execution_count": 3,
   "id": "249e7f1c",
   "metadata": {},
   "outputs": [
    {
     "data": {
      "text/plain": [
       "Index(['State', 'Tested', 'Infected', 'Deaths', 'Population', 'Pop Density',\n",
       "       'Gini', 'ICU Beds', 'Income', 'GDP', 'Unemployment', 'Sex Ratio',\n",
       "       'Smoking Rate', 'Flu Deaths', 'Respiratory Deaths', 'Physicians',\n",
       "       'Hospitals', 'Health Spending', 'Pollution', 'Med-Large Airports',\n",
       "       'Temperature', 'Urban', 'Age 0-25', 'Age 26-54', 'Age 55+',\n",
       "       'School Closure Date'],\n",
       "      dtype='object')"
      ]
     },
     "execution_count": 3,
     "metadata": {},
     "output_type": "execute_result"
    }
   ],
   "source": [
    "df.columns"
   ]
  },
  {
   "cell_type": "code",
   "execution_count": 4,
   "id": "6b0bca5d",
   "metadata": {},
   "outputs": [
    {
     "data": {
      "text/html": [
       "<div>\n",
       "<style scoped>\n",
       "    .dataframe tbody tr th:only-of-type {\n",
       "        vertical-align: middle;\n",
       "    }\n",
       "\n",
       "    .dataframe tbody tr th {\n",
       "        vertical-align: top;\n",
       "    }\n",
       "\n",
       "    .dataframe thead th {\n",
       "        text-align: right;\n",
       "    }\n",
       "</style>\n",
       "<table border=\"1\" class=\"dataframe\">\n",
       "  <thead>\n",
       "    <tr style=\"text-align: right;\">\n",
       "      <th></th>\n",
       "      <th>date</th>\n",
       "      <th>state</th>\n",
       "      <th>positive</th>\n",
       "      <th>probableCases</th>\n",
       "      <th>negative</th>\n",
       "      <th>pending</th>\n",
       "      <th>totalTestResultsSource</th>\n",
       "      <th>totalTestResults</th>\n",
       "      <th>hospitalizedCurrently</th>\n",
       "      <th>hospitalizedCumulative</th>\n",
       "      <th>...</th>\n",
       "      <th>posNeg</th>\n",
       "      <th>deathIncrease</th>\n",
       "      <th>hospitalizedIncrease</th>\n",
       "      <th>hash</th>\n",
       "      <th>commercialScore</th>\n",
       "      <th>negativeRegularScore</th>\n",
       "      <th>negativeScore</th>\n",
       "      <th>positiveScore</th>\n",
       "      <th>score</th>\n",
       "      <th>grade</th>\n",
       "    </tr>\n",
       "  </thead>\n",
       "  <tbody>\n",
       "    <tr>\n",
       "      <th>0</th>\n",
       "      <td>20201206</td>\n",
       "      <td>AK</td>\n",
       "      <td>35720.0</td>\n",
       "      <td>NaN</td>\n",
       "      <td>1042056.0</td>\n",
       "      <td>NaN</td>\n",
       "      <td>totalTestsViral</td>\n",
       "      <td>1077776.0</td>\n",
       "      <td>164.0</td>\n",
       "      <td>799.0</td>\n",
       "      <td>...</td>\n",
       "      <td>1077776</td>\n",
       "      <td>0</td>\n",
       "      <td>0</td>\n",
       "      <td>7b1d31e2756687bb9259b29195f1db6cdb321ea6</td>\n",
       "      <td>0</td>\n",
       "      <td>0</td>\n",
       "      <td>0</td>\n",
       "      <td>0</td>\n",
       "      <td>0</td>\n",
       "      <td>NaN</td>\n",
       "    </tr>\n",
       "    <tr>\n",
       "      <th>1</th>\n",
       "      <td>20201206</td>\n",
       "      <td>AL</td>\n",
       "      <td>269877.0</td>\n",
       "      <td>45962.0</td>\n",
       "      <td>1421126.0</td>\n",
       "      <td>NaN</td>\n",
       "      <td>totalTestsPeopleViral</td>\n",
       "      <td>1645041.0</td>\n",
       "      <td>1927.0</td>\n",
       "      <td>26331.0</td>\n",
       "      <td>...</td>\n",
       "      <td>1691003</td>\n",
       "      <td>12</td>\n",
       "      <td>0</td>\n",
       "      <td>19454ed8fe28fc0a7948fc0771b2f3c846c1c92e</td>\n",
       "      <td>0</td>\n",
       "      <td>0</td>\n",
       "      <td>0</td>\n",
       "      <td>0</td>\n",
       "      <td>0</td>\n",
       "      <td>NaN</td>\n",
       "    </tr>\n",
       "    <tr>\n",
       "      <th>2</th>\n",
       "      <td>20201206</td>\n",
       "      <td>AR</td>\n",
       "      <td>170924.0</td>\n",
       "      <td>22753.0</td>\n",
       "      <td>1614979.0</td>\n",
       "      <td>NaN</td>\n",
       "      <td>totalTestsViral</td>\n",
       "      <td>1763150.0</td>\n",
       "      <td>1076.0</td>\n",
       "      <td>9401.0</td>\n",
       "      <td>...</td>\n",
       "      <td>1785903</td>\n",
       "      <td>40</td>\n",
       "      <td>21</td>\n",
       "      <td>25fc83bffff5b32ba1a737be8e087fad9f4fde33</td>\n",
       "      <td>0</td>\n",
       "      <td>0</td>\n",
       "      <td>0</td>\n",
       "      <td>0</td>\n",
       "      <td>0</td>\n",
       "      <td>NaN</td>\n",
       "    </tr>\n",
       "    <tr>\n",
       "      <th>3</th>\n",
       "      <td>20201206</td>\n",
       "      <td>AS</td>\n",
       "      <td>0.0</td>\n",
       "      <td>NaN</td>\n",
       "      <td>2140.0</td>\n",
       "      <td>NaN</td>\n",
       "      <td>totalTestsViral</td>\n",
       "      <td>2140.0</td>\n",
       "      <td>NaN</td>\n",
       "      <td>NaN</td>\n",
       "      <td>...</td>\n",
       "      <td>2140</td>\n",
       "      <td>0</td>\n",
       "      <td>0</td>\n",
       "      <td>8c39eec317586b0c34fc2903e6a3891ecb00469e</td>\n",
       "      <td>0</td>\n",
       "      <td>0</td>\n",
       "      <td>0</td>\n",
       "      <td>0</td>\n",
       "      <td>0</td>\n",
       "      <td>NaN</td>\n",
       "    </tr>\n",
       "    <tr>\n",
       "      <th>4</th>\n",
       "      <td>20201206</td>\n",
       "      <td>AZ</td>\n",
       "      <td>364276.0</td>\n",
       "      <td>12590.0</td>\n",
       "      <td>2018813.0</td>\n",
       "      <td>NaN</td>\n",
       "      <td>totalTestsPeopleViral</td>\n",
       "      <td>2370499.0</td>\n",
       "      <td>2977.0</td>\n",
       "      <td>28248.0</td>\n",
       "      <td>...</td>\n",
       "      <td>2383089</td>\n",
       "      <td>25</td>\n",
       "      <td>242</td>\n",
       "      <td>7cf59da9e4bc31d905e179211313d08879880a85</td>\n",
       "      <td>0</td>\n",
       "      <td>0</td>\n",
       "      <td>0</td>\n",
       "      <td>0</td>\n",
       "      <td>0</td>\n",
       "      <td>NaN</td>\n",
       "    </tr>\n",
       "  </tbody>\n",
       "</table>\n",
       "<p>5 rows × 55 columns</p>\n",
       "</div>"
      ],
      "text/plain": [
       "       date state  positive  probableCases   negative  pending  \\\n",
       "0  20201206    AK   35720.0            NaN  1042056.0      NaN   \n",
       "1  20201206    AL  269877.0        45962.0  1421126.0      NaN   \n",
       "2  20201206    AR  170924.0        22753.0  1614979.0      NaN   \n",
       "3  20201206    AS       0.0            NaN     2140.0      NaN   \n",
       "4  20201206    AZ  364276.0        12590.0  2018813.0      NaN   \n",
       "\n",
       "  totalTestResultsSource  totalTestResults  hospitalizedCurrently  \\\n",
       "0        totalTestsViral         1077776.0                  164.0   \n",
       "1  totalTestsPeopleViral         1645041.0                 1927.0   \n",
       "2        totalTestsViral         1763150.0                 1076.0   \n",
       "3        totalTestsViral            2140.0                    NaN   \n",
       "4  totalTestsPeopleViral         2370499.0                 2977.0   \n",
       "\n",
       "   hospitalizedCumulative  ...   posNeg  deathIncrease  hospitalizedIncrease  \\\n",
       "0                   799.0  ...  1077776              0                     0   \n",
       "1                 26331.0  ...  1691003             12                     0   \n",
       "2                  9401.0  ...  1785903             40                    21   \n",
       "3                     NaN  ...     2140              0                     0   \n",
       "4                 28248.0  ...  2383089             25                   242   \n",
       "\n",
       "                                       hash  commercialScore  \\\n",
       "0  7b1d31e2756687bb9259b29195f1db6cdb321ea6                0   \n",
       "1  19454ed8fe28fc0a7948fc0771b2f3c846c1c92e                0   \n",
       "2  25fc83bffff5b32ba1a737be8e087fad9f4fde33                0   \n",
       "3  8c39eec317586b0c34fc2903e6a3891ecb00469e                0   \n",
       "4  7cf59da9e4bc31d905e179211313d08879880a85                0   \n",
       "\n",
       "  negativeRegularScore negativeScore positiveScore score  grade  \n",
       "0                    0             0             0     0    NaN  \n",
       "1                    0             0             0     0    NaN  \n",
       "2                    0             0             0     0    NaN  \n",
       "3                    0             0             0     0    NaN  \n",
       "4                    0             0             0     0    NaN  \n",
       "\n",
       "[5 rows x 55 columns]"
      ]
     },
     "execution_count": 4,
     "metadata": {},
     "output_type": "execute_result"
    }
   ],
   "source": [
    "df_daily = pd.read_csv('data/us_states_covid19_daily.csv')\n",
    "df_daily.head()"
   ]
  },
  {
   "cell_type": "code",
   "execution_count": 5,
   "id": "df1c36bf",
   "metadata": {},
   "outputs": [
    {
     "data": {
      "text/plain": [
       "Index(['date', 'state', 'positive', 'probableCases', 'negative', 'pending',\n",
       "       'totalTestResultsSource', 'totalTestResults', 'hospitalizedCurrently',\n",
       "       'hospitalizedCumulative', 'inIcuCurrently', 'inIcuCumulative',\n",
       "       'onVentilatorCurrently', 'onVentilatorCumulative', 'recovered',\n",
       "       'dataQualityGrade', 'lastUpdateEt', 'dateModified', 'checkTimeEt',\n",
       "       'death', 'hospitalized', 'dateChecked', 'totalTestsViral',\n",
       "       'positiveTestsViral', 'negativeTestsViral', 'positiveCasesViral',\n",
       "       'deathConfirmed', 'deathProbable', 'totalTestEncountersViral',\n",
       "       'totalTestsPeopleViral', 'totalTestsAntibody', 'positiveTestsAntibody',\n",
       "       'negativeTestsAntibody', 'totalTestsPeopleAntibody',\n",
       "       'positiveTestsPeopleAntibody', 'negativeTestsPeopleAntibody',\n",
       "       'totalTestsPeopleAntigen', 'positiveTestsPeopleAntigen',\n",
       "       'totalTestsAntigen', 'positiveTestsAntigen', 'fips', 'positiveIncrease',\n",
       "       'negativeIncrease', 'total', 'totalTestResultsIncrease', 'posNeg',\n",
       "       'deathIncrease', 'hospitalizedIncrease', 'hash', 'commercialScore',\n",
       "       'negativeRegularScore', 'negativeScore', 'positiveScore', 'score',\n",
       "       'grade'],\n",
       "      dtype='object')"
      ]
     },
     "execution_count": 5,
     "metadata": {},
     "output_type": "execute_result"
    }
   ],
   "source": [
    "df_daily.columns"
   ]
  },
  {
   "cell_type": "markdown",
   "id": "583f22f2",
   "metadata": {},
   "source": [
    "# Data Analysis\n",
    "#### It is the part where we explore our data in order to find out what general trends and distributions are."
   ]
  },
  {
   "cell_type": "markdown",
   "id": "2fe170f6",
   "metadata": {},
   "source": [
    "This part is aimed to answer the following questions:\n",
    "- How has been the evolution on the number of cases over time?\n",
    "- Do tests seem to have some effect?\n",
    "- What are the subgroups that suffered most?\n",
    "- If we were to do confinement measures by subgroups of populations, on which groups should we focus to stop the contagion early?"
   ]
  },
  {
   "cell_type": "code",
   "execution_count": 6,
   "id": "ffdde417",
   "metadata": {},
   "outputs": [],
   "source": [
    "# State-wise COVID-19 Cases (total number of cases and also % of population - probably two separate charts)\n",
    "# df dataset\n"
   ]
  },
  {
   "cell_type": "code",
   "execution_count": 7,
   "id": "d9fb56e6",
   "metadata": {},
   "outputs": [],
   "source": [
    "# Total number of daily confirmed cases (line chart, df_daily)\n"
   ]
  },
  {
   "cell_type": "code",
   "execution_count": 8,
   "id": "941ca7e1",
   "metadata": {},
   "outputs": [],
   "source": [
    "# COVID-19 Testing and Positivity Rate: A line chart depicting the daily testing rate\n",
    "# and the daily positivity rate over time. This chart helps assess testing adequacy and trends in infection rates.\n",
    "# df_daily dataset\n"
   ]
  },
  {
   "cell_type": "code",
   "execution_count": 9,
   "id": "7e496600",
   "metadata": {},
   "outputs": [],
   "source": [
    "# COVID-19 Deaths by Age Group: can be used to highlight age-related risk factors\n",
    "# df dataset\n"
   ]
  },
  {
   "cell_type": "code",
   "execution_count": 10,
   "id": "5a87aee5",
   "metadata": {},
   "outputs": [],
   "source": [
    "# COVID-19 Impact on Vulnerable Populations:\n",
    "# Bar charts illustrating the impact of COVID-19 on vulnerable populations\n",
    "# such as seniors, minorities, or low-income groups.\n",
    "# df dataset\n"
   ]
  },
  {
   "cell_type": "code",
   "execution_count": 11,
   "id": "b94cdffd",
   "metadata": {},
   "outputs": [],
   "source": [
    "# COVID-19 Vaccine Coverage:\n",
    "# A bar chart illustrating the percentage of the population vaccinated in each state.\n",
    "# df dataset\n"
   ]
  },
  {
   "cell_type": "code",
   "execution_count": 12,
   "id": "d92011d2",
   "metadata": {},
   "outputs": [],
   "source": [
    "# COVID-19 Demographics and Hospitalizations:\n",
    "# A bar chart comparing demographic characteristics (age / gender) of COVID-19 patients and hospitalization rates.\n",
    "# This chart provides insights into who is most affected.\n",
    "# df dataset\n"
   ]
  },
  {
   "cell_type": "code",
   "execution_count": 13,
   "id": "4023213c",
   "metadata": {},
   "outputs": [],
   "source": [
    "# Distribution of daily new cases per state\n",
    "# (I'd recommend using cases/100k population metric because it's a\n",
    "# valid metric to compare new cases between states with deffirent population)\n",
    "# this is a very good example - https://towardsdatascience.com/visualization-of-covid-19-new-cases-over-time-in-python-8c6ac4620c88\n"
   ]
  },
  {
   "cell_type": "code",
   "execution_count": 14,
   "id": "530e97c2",
   "metadata": {},
   "outputs": [],
   "source": [
    "# Feel free to add anything else or remove something, these are just some ideas I came up with\n"
   ]
  },
  {
   "cell_type": "markdown",
   "id": "ed9247b2",
   "metadata": {},
   "source": [
    "# Model"
   ]
  },
  {
   "cell_type": "markdown",
   "id": "0b32dc7b",
   "metadata": {},
   "source": [
    "This part contains a simultion of a simple model of contagion.\n",
    "\n",
    "There is a total population of 1000 people. Each one can infect 3 other individuals per day with a probability of 0.05 (let's assume that they are totally independent). There are 10 persons initially infected.\n",
    "\n",
    "- Simulate and plot the number of infected persons in the next 3 days.\n"
   ]
  },
  {
   "cell_type": "code",
   "execution_count": 15,
   "id": "3e4f79b9",
   "metadata": {},
   "outputs": [
    {
     "name": "stdout",
     "output_type": "stream",
     "text": [
      "After 3 days the people infected were around: 15, with the following distribution: \n"
     ]
    },
    {
     "data": {
      "image/png": "[encoded data removed]",
      "text/plain": [
       "<Figure size 640x480 with 1 Axes>"
      ]
     },
     "metadata": {},
     "output_type": "display_data"
    }
   ],
   "source": [
    "# How many people were infected after 3 days?\n",
    "total_byday = 10\n",
    "infected = [10]\n",
    "day = [0]\n",
    "for i in range (3):\n",
    "    total_byday += total_byday*0.05*3\n",
    "    infected.append(total_byday)\n",
    "    day.append(i+1)\n",
    "data = [day, infected]\n",
    "column_names = ['Day', 'Total Infected']\n",
    "data = pd.DataFrame(list(zip(day, infected)),  columns=column_names)\n",
    "data.plot(x='Day', y='Total Infected', kind='scatter', fontsize= 7)\n",
    "plt.xlabel('Day')\n",
    "plt.ylabel('Total Infected')\n",
    "plt.title('COVID-19 - Infections per day')\n",
    "plt.ylim(0,50)\n",
    "plt.xlim(0,20)\n",
    "print(f\"After 3 days the people infected were around: {round(total_byday)}, with the following distribution: \")\n",
    "plt.show()\n",
    "\n"
   ]
  },
  {
   "cell_type": "markdown",
   "id": "4e6890c3",
   "metadata": {},
   "source": [
    "\n",
    "- How many days will it take for the full population to be infected?"
   ]
  },
  {
   "cell_type": "code",
   "execution_count": 16,
   "id": "af917f54",
   "metadata": {},
   "outputs": [
    {
     "name": "stdout",
     "output_type": "stream",
     "text": [
      "The total population was infected in: 33 days\n",
      "The distribution of the infection of the total population would be the following:\n"
     ]
    },
    {
     "data": {
      "image/png": "[encoded data removed]",
      "text/plain": [
       "<Figure size 640x480 with 1 Axes>"
      ]
     },
     "metadata": {},
     "output_type": "display_data"
    }
   ],
   "source": [
    "# How many days will it take for the full population to be infected?\n",
    "i = 4\n",
    "while (total_byday <= 1000):\n",
    "    total_byday += total_byday*0.05*3\n",
    "    infected.append(total_byday)\n",
    "    day.append(i)\n",
    "    i+=1\n",
    "print(f\"The total population was infected in: {day[-1]} days\")\n",
    "print(\"The distribution of the infection of the total population would be the following:\")\n",
    "column_names = ['Day', 'Total Infected']\n",
    "data = pd.DataFrame(list(zip(day, infected)),  columns=column_names)\n",
    "data.plot(x='Day', y='Total Infected', kind='scatter', fontsize= 7)\n",
    "plt.xlabel('Day')\n",
    "plt.ylabel('Total Infected')\n",
    "plt.title('COVID-19 - Infections per day')\n",
    "plt.ylim(0,1000)\n",
    "plt.xlim(0,35)\n",
    "plt.show()\n"
   ]
  },
  {
   "cell_type": "markdown",
   "id": "d4fdc886",
   "metadata": {},
   "source": [
    "Let's simulate a policy.\n",
    "\n",
    "Suposse we introduce vaccination at period 3. The implications of the vaccine are only for those that are still uninfected. For simplicity, their inmunity is modeled as a reduction in the probability that they get infected of 0.01 pp. \n",
    "- How many infections result in the 10th day?"
   ]
  },
  {
   "cell_type": "code",
   "execution_count": 20,
   "id": "ac39564c",
   "metadata": {},
   "outputs": [
    {
     "name": "stdout",
     "output_type": "stream",
     "text": [
      "If a vaccine was introduced at day 3, after 10 days the total population infected will be about: 19 people\n",
      "The total population was infected in: 145 days\n",
      "The distribution of the infection of the total population would be the following:\n"
     ]
    },
    {
     "data": {
      "image/png": "[encoded data removed]",
      "text/plain": [
       "<Figure size 640x480 with 1 Axes>"
      ]
     },
     "metadata": {},
     "output_type": "display_data"
    }
   ],
   "source": [
    "# How many infections will there be in the 10th day if a vaccine was introduced at day 3?\n",
    "total_byday = 10\n",
    "infected = [10]\n",
    "day = [0]\n",
    "for i in range (3):\n",
    "    total_byday += total_byday*0.05*3\n",
    "    infected.append(total_byday)\n",
    "    day.append(i+1)\n",
    "# Then vaccine was introduced\n",
    "i = 4\n",
    "while (i <= 10):\n",
    "    total_byday += total_byday*0.01*3\n",
    "    infected.append(total_byday)\n",
    "    day.append(i)\n",
    "    i+=1\n",
    "print(f\"If a vaccine was introduced at day 3, after 10 days the total population infected will be about: {round(infected[-1])} people\")\n",
    "while(total_byday<= 1000):\n",
    "    total_byday += total_byday*0.01*3\n",
    "    infected.append(total_byday)\n",
    "    day.append(i)\n",
    "    i+=1\n",
    "print(f\"The total population was infected in: {day[-1]} days\")\n",
    "print(\"The distribution of the infection of the total population would be the following:\")\n",
    "column_names = ['Day', 'Total Infected']\n",
    "data = pd.DataFrame(list(zip(day, infected)),  columns=column_names)\n",
    "data.plot(x='Day', y='Total Infected', kind='scatter', fontsize= 7)\n",
    "plt.xlabel('Day')\n",
    "plt.ylabel('Total Infected')\n",
    "plt.title('COVID-19 - Infections per day')\n",
    "plt.ylim(0,1000)\n",
    "plt.xlim(0,170)\n",
    "plt.show()"
   ]
  },
  {
   "cell_type": "code",
   "execution_count": null,
   "id": "2d2f01f9",
   "metadata": {},
   "outputs": [],
   "source": []
  }
 ],
 "metadata": {
  "kernelspec": {
   "display_name": "Python 3 (ipykernel)",
   "language": "python",
   "name": "python3"
  },
  "language_info": {
   "codemirror_mode": {
    "name": "ipython",
    "version": 3
   },
   "file_extension": ".py",
   "mimetype": "text/x-python",
   "name": "python",
   "nbconvert_exporter": "python",
   "pygments_lexer": "ipython3",
   "version": "3.11.4"
  }
 },
 "nbformat": 4,
 "nbformat_minor": 5
}
